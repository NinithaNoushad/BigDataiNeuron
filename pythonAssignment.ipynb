{
 "cells": [
  {
   "cell_type": "markdown",
   "id": "dafc397a-cc14-4331-9634-09b1346ea123",
   "metadata": {},
   "source": [
    "##Assignment Part-1\n"
   ]
  },
  {
   "cell_type": "markdown",
   "id": "7f56221d-f00a-4aae-b9a9-02382bfda787",
   "metadata": {},
   "source": [
    "Q1.  Why do we call Python as a general purpose and high-level programming language?\n",
    "\n",
    "A general-purpose programming language (GPL) is a programming language designed to be used for building software \n",
    "in a wide variety of application domains, across a multitude of hardware configurations and operating systems.\n",
    "Python Programming is widely used in Artificial Intelligence, Natural Language Generation, Neural Networks and \n",
    "other advanced fields of Computer Science.\n",
    "Python is a high-level programming language designed to be easy to read and simple to implement."
   ]
  },
  {
   "cell_type": "markdown",
   "id": "616ed27e-b527-4432-b21a-080a8aae198e",
   "metadata": {},
   "source": [
    "Q2. Why is Python called a dynamically typed language?\n",
    "\n",
    "Python don't have any problem even if we don't declare the type of variable.\n",
    "It states the kind of variable in the runtime of the program.\n",
    "Python also take cares of the memory management which is crucial in programming. So, Python is a dynamically typed language."
   ]
  },
  {
   "cell_type": "markdown",
   "id": "7f8dbf4b-7ce7-44ea-bf73-b2487cd2e715",
   "metadata": {},
   "source": [
    "Q3. List some pros and cons of Python programming language?\n",
    "\n",
    "##Pros\n",
    "\n",
    "Free and Open-Source\n",
    "Easy to Learn\n",
    "Vast Libraries Support\n",
    "It is Object-Oriented.\n",
    "Greater Productivity\n",
    "Portability\n",
    "It has Built-in Data Structures.\n",
    "Dynamically Typed\n",
    "\n",
    "\n",
    "##Cons\n",
    "Poor Memory Efficiency\n",
    "Slow Speed\n",
    "Weak in Mobile Computing\n",
    "Database Access"
   ]
  },
  {
   "cell_type": "markdown",
   "id": "8871a35b-f3f2-4c53-ba44-225e9a4d0d70",
   "metadata": {},
   "source": [
    "Q4. In what all domains can we use Python?\n",
    "\n",
    "Data Science\n",
    "Automation\n",
    "Application Development \n",
    "AI & Machine Learning \n",
    "Audio/Video Applications"
   ]
  },
  {
   "cell_type": "markdown",
   "id": "f9e86b9e-3457-4056-a538-801db91bc666",
   "metadata": {},
   "source": [
    "Q5. What are variable and how can we declare them?\n",
    "\n",
    " a variable is a value that can change, depending on conditions or on information passed to the program\n",
    "Variables are the basic unit of storage in a programming language. These variables consist of a data type,\n",
    "the variable name, and the value to be assigned to the variable.\n",
    "Unless and until the variables are declared and initialized, they cannot be used in the program.\n",
    "\n",
    "type variableName = value; Where type is one of C types (such as int ), and variableName is the name of the variable (such as x or myName).\n",
    "The equal sign is used to assign a value to the variable"
   ]
  },
  {
   "cell_type": "markdown",
   "id": "070aab07-a137-4650-87e3-bbf1d3b4d330",
   "metadata": {},
   "source": [
    "Q6. How can we take an input from the user in Python?\n",
    "\n",
    "Python input() function is used to take user input. By default, it returns the user input in form of a string."
   ]
  },
  {
   "cell_type": "markdown",
   "id": "f169767f-54ef-46af-a247-205ccccf9939",
   "metadata": {},
   "source": [
    "Q7. What is the default datatype of the value that has been taken as an input using input() function?\n",
    "\n",
    "By default, input() function returns a string object. Hence, the input() function by default returns the value as string data type​"
   ]
  },
  {
   "cell_type": "markdown",
   "id": "2f15bb19-ba2b-440f-b0e0-e6d3d58bef87",
   "metadata": {},
   "source": [
    "Q8. What is type casting?\n",
    "\n",
    "In type casting, the compiler automatically changes one data type to another one depending on what we want the program to do. "
   ]
  },
  {
   "cell_type": "markdown",
   "id": "3e1168ce-e508-4dc2-9b44-68a159b02466",
   "metadata": {},
   "source": [
    "Q9. Can we take more than one input from the user using single input() function? If yes, how? If no, why?\n",
    "\n",
    "Using split() method : \n",
    "This function helps in getting multiple inputs from users.\n",
    "It breaks the given input by the specified separator. \n",
    "If a separator is not provided then any white space is a separator.\n",
    "Generally, users use a split() method to split a Python string but one can use it in taking multiple inputs.\n",
    "\n",
    "Syntax : \n",
    "\n",
    "input().split(separator, maxsplit)\n",
    "x, y = input(\"Enter two values: \").split()\n",
    "\n",
    "\n",
    "Using List comprehension\n",
    "x, y = [int(x) for x in input(\"Enter two values: \").split()]"
   ]
  },
  {
   "cell_type": "markdown",
   "id": "00c7b9f2-15f0-4e5b-907a-db92f7721d7d",
   "metadata": {},
   "source": [
    "Q10. What are keywords?\n",
    "\n",
    "Keywords are some predefined and reserved words in python that have special meanings. \n",
    "Keywords are used to define the syntax of the coding. The keyword cannot be used as an identifier, function, and variable name.\n",
    "There are 33 keywords in Python 3.7 \n",
    "\n",
    "Here is a list of the Python keywords.  \n",
    "\n",
    "False               class               from                or\n",
    "None                continue            global              pass\n",
    "True                def                 if                  raise\n",
    "and                 del                 import              return\n",
    "as                  elif                in                  try\n",
    "assert              else                is                  while\n",
    "async               except              lambda              with\n",
    "await               finally             nonlocal            yield\n",
    "break               for                 not"
   ]
  },
  {
   "cell_type": "markdown",
   "id": "83892d74-f3ad-4fa6-8fe3-30469e013800",
   "metadata": {},
   "source": [
    "Q11. Can we use keywords as a variable? Support your answer with reason.\n",
    "\n",
    "We cannot use keywords as variable names as they are reserved names that are built-in to Python.\n",
    "continue = 'Python'\n",
    "The above code is wrong because we have used continue as a variable name. "
   ]
  },
  {
   "cell_type": "markdown",
   "id": "9b68d4de-d0cd-40d9-9adf-7f3c8d01f719",
   "metadata": {},
   "source": [
    "Q12. What is indentation? What's the use of indentaion in Python?\n",
    "\n",
    "\n",
    "Python indentation refers to adding white space before a statement to a particular block of code. \n",
    "in Python, the indentation is an essential and mandatory concept that should be followed when writing a python code; \n",
    "otherwise, the python interpreter throws IndentationError."
   ]
  },
  {
   "cell_type": "markdown",
   "id": "bc065cbe-f2e0-4b49-ac2a-cc11429b610e",
   "metadata": {},
   "source": [
    "Q13. How can we throw some output in Python?\n",
    "\n",
    "The print() function in Python is used to print a specified message on the screen."
   ]
  },
  {
   "cell_type": "markdown",
   "id": "937e26d4-80bf-4f09-a03d-479f74164574",
   "metadata": {},
   "source": [
    "Q14. What are operators in Python?\n",
    "\n",
    "+\tAddition: adds two operands\tx + y\n",
    "–\tSubtraction: subtracts two operands\tx – y\n",
    "*\tMultiplication: multiplies two operands\tx * y\n",
    "/\tDivision (float): divides the first operand by the second\tx / y\n",
    "//\tDivision (floor): divides the first operand by the second\tx // y\n",
    "%\tModulus: returns the remainder when the first operand is divided by the second\tx % y\n",
    "**\tPower: Returns first raised to power second\tx ** y"
   ]
  },
  {
   "cell_type": "markdown",
   "id": "46353381-3f8b-4a2c-907b-72833be2b974",
   "metadata": {},
   "source": [
    "Q15. What is difference between / and // operators?\n",
    "/\tDivision (float): divides the first operand by the second\tx / y\n",
    "//\tDivision (floor): divides the first operand by the second\tx // y"
   ]
  },
  {
   "cell_type": "code",
   "execution_count": 6,
   "id": "5197c75e-e08c-4dc2-8a5c-5ecb62fc5a03",
   "metadata": {},
   "outputs": [
    {
     "name": "stdout",
     "output_type": "stream",
     "text": [
      "iNeuroniNeuroniNeuroniNeuron\n"
     ]
    }
   ],
   "source": [
    "#Q16. Write a code that gives following as an output.\n",
    "#```iNeuroniNeuroniNeuroniNeuron```\n",
    "\n",
    "print(\"iNeuron\"*4)"
   ]
  },
  {
   "cell_type": "code",
   "execution_count": 11,
   "id": "319d7669-3cda-4c35-bad1-c0b091bc7221",
   "metadata": {},
   "outputs": [
    {
     "name": "stdin",
     "output_type": "stream",
     "text": [
      "enter a number 89\n"
     ]
    },
    {
     "name": "stdout",
     "output_type": "stream",
     "text": [
      "odd number\n"
     ]
    }
   ],
   "source": [
    "#Q17. Write a code to take a number as an input from the user and check if the number is odd or even.\n",
    "num=int(input(\"enter a number\"))\n",
    "if num%2==0:\n",
    "    print(\"even number\")\n",
    "else:\n",
    "    print(\"odd number\")\n",
    "    \n",
    "              \n"
   ]
  },
  {
   "cell_type": "markdown",
   "id": "187c395e-0a4e-4921-b152-061e492be9c2",
   "metadata": {},
   "source": [
    "Q18. What are boolean operator?\n",
    "\n",
    "Boolean operators are words that connect search terms (keywords) to create a logical phrase that a database can understand. \n",
    "They allow you to create a complex search that could include multiple concepts and alternative keywords."
   ]
  },
  {
   "cell_type": "markdown",
   "id": "987acf63-919a-404a-b825-b8bb8d61f940",
   "metadata": {},
   "source": [
    "19. What will the output of the following?\n",
    "```\n",
    "1 or 0\n",
    "\n",
    "0 and 0\n",
    "\n",
    "True and False and True\n",
    "\n",
    "1 or 0 or 0\n"
   ]
  },
  {
   "cell_type": "code",
   "execution_count": 13,
   "id": "0fa5d4f7-f1b6-4b86-a88a-81b69bf66def",
   "metadata": {},
   "outputs": [
    {
     "name": "stdout",
     "output_type": "stream",
     "text": [
      "1\n",
      "0\n",
      "False\n",
      "1\n"
     ]
    }
   ],
   "source": [
    "print(1 or 0)\n",
    "print(0 and 0)\n",
    "print(True and False and True)\n",
    "print(1 or 0 or 0)"
   ]
  },
  {
   "cell_type": "markdown",
   "id": "52dcfccf-67fe-40f0-9bf4-e6d929696034",
   "metadata": {},
   "source": [
    "Q20. What are conditional statements in Python?\n",
    "\n",
    "The if statement is a conditional statement in python, that is used to determine whether a block of code will be executed or not.\n",
    "if <expr>:\n",
    "    <statement>"
   ]
  },
  {
   "cell_type": "markdown",
   "id": "b92d1bc2-2629-44c2-8497-040ceed8657d",
   "metadata": {},
   "source": [
    "Q21. What is use of 'if', 'elif' and 'else' keywords?\n",
    "\n",
    "If-elif-else statement is used in Python for decision-making i.e the program will evaluate\n",
    "test expression and will execute the remaining statements only \n",
    "if the given test expression turns out to be true"
   ]
  },
  {
   "cell_type": "markdown",
   "id": "68b6ba49-a661-4023-93f5-78aaa5f36330",
   "metadata": {},
   "source": [
    "Q22. Write a code to take the age of person as an input and if age >= 18 display \"I can vote\". If age is < 18 display \"I can't vote\"."
   ]
  },
  {
   "cell_type": "markdown",
   "id": "b35ab916-1cc6-458b-9828-e6dfd70985e5",
   "metadata": {},
   "source": [
    "age=int(input(\"enter an age\"))\n",
    "\n",
    "if age>= 18 :\n",
    "    print(\"I can vote\")\n",
    "else:\n",
    "    print(\"I can't vote\")\n"
   ]
  },
  {
   "cell_type": "markdown",
   "id": "aba17a97-ee7d-4600-8e05-4b3b055a6254",
   "metadata": {},
   "source": [
    "Q23. Write a code that displays the sum of all the even numbers from the given list.\n",
    "```\n",
    "numbers = [12, 75, 150, 180, 145, 525, 50]"
   ]
  },
  {
   "cell_type": "markdown",
   "id": "e5c309e1-274b-4743-9b25-a5c407e739fe",
   "metadata": {},
   "source": [
    "numbers = [12, 75, 150, 180, 145, 525, 50]\n",
    "sum=0\n",
    "for i in numbers:\n",
    "    if i %2==0:\n",
    "        sum=sum+i\n",
    "print(sum)\n",
    "        "
   ]
  },
  {
   "cell_type": "markdown",
   "id": "05934685-28a6-49a5-ad3d-a57c332b3945",
   "metadata": {},
   "source": [
    "Q24. Write a code to take 3 numbers as an input from the user and display the greatest no as output."
   ]
  },
  {
   "cell_type": "markdown",
   "id": "2f54c088-cf69-422d-a1cf-581262e69c58",
   "metadata": {},
   "source": [
    "num1=int(input(\"enter 1st number\",))\n",
    "num2=int(input(\"enter 2nd number\",))\n",
    "num3=int(input(\"enter 3rd number\",))\n",
    "if (num1 >= num2) and (num1 >= num3):\n",
    "   largest = num1\n",
    "elif (num2 >= num1) and (num2 >= num3):\n",
    "   largest = num2\n",
    "else:\n",
    "   largest = num3\n",
    "\n",
    "print(\"The largest number is\", largest)\n",
    "\n"
   ]
  },
  {
   "cell_type": "markdown",
   "id": "7adff0f0-5f46-431e-a031-8d52440e6695",
   "metadata": {},
   "source": [
    "Q25. Write a program to display only those numbers from a list that satisfy the following conditions\n",
    "\n",
    "- The number must be divisible by five\n",
    "\n",
    "- If the number is greater than 150, then skip it and move to the next number\n",
    "\n",
    "- If the number is greater than 500, then stop the loop\n",
    "```\n",
    "numbers = [12, 75, 150, 180, 145, 525, 50]\n",
    "```"
   ]
  },
  {
   "cell_type": "code",
   "execution_count": 65,
   "id": "1283f479-7356-4c92-a48d-b8e24f7fcebf",
   "metadata": {},
   "outputs": [
    {
     "name": "stdout",
     "output_type": "stream",
     "text": [
      "75\n",
      "150\n",
      "145\n"
     ]
    }
   ],
   "source": [
    "numbers = [12, 75, 150, 180, 145, 525, 50]\n",
    "for num in numbers:\n",
    "    if num>500 :\n",
    "        break\n",
    "    elif num > 150:\n",
    "        continue\n",
    "    elif num % 5==0:\n",
    "        print(num)\n",
    "    \n",
    "        "
   ]
  },
  {
   "cell_type": "code",
   "execution_count": null,
   "id": "163e475d-78a8-47f5-8b15-f51afa4f33f3",
   "metadata": {},
   "outputs": [],
   "source": []
  }
 ],
 "metadata": {
  "kernelspec": {
   "display_name": "Python 3 (ipykernel)",
   "language": "python",
   "name": "python3"
  },
  "language_info": {
   "codemirror_mode": {
    "name": "ipython",
    "version": 3
   },
   "file_extension": ".py",
   "mimetype": "text/x-python",
   "name": "python",
   "nbconvert_exporter": "python",
   "pygments_lexer": "ipython3",
   "version": "3.10.6"
  }
 },
 "nbformat": 4,
 "nbformat_minor": 5
}
